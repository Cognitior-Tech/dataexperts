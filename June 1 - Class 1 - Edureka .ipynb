{
 "cells": [
  {
   "cell_type": "code",
   "execution_count": null,
   "metadata": {},
   "outputs": [],
   "source": [
    "\"\"\"Basics of Python\n",
    "\tTypes of variables \n",
    "\tLoops in Python \n",
    "\tCollection datatypes \n",
    "\t\tLists\n",
    "\t\tTuples\n",
    "\t\tSets\n",
    "\t\tDictionaires\n",
    "\tExceptional Handling \n",
    "\tOOPs concept\n",
    "\tUser defined function\n",
    "\tNumpy - Arrays , Matrix \n",
    "\tPandas - Dataframes\n",
    "\tSklearn - Very powerful \n",
    "\tStatsmodel \n",
    "\tScipy \n",
    "\n",
    "Data Preprocessing \n",
    "\tMissing value treatment\n",
    "\tOutlier treatment\n",
    "\tFeature scaling \n",
    "\tTrain and Test Split \n",
    "\n",
    "Data Visualization \n",
    "\n",
    "Supervised Learning\n",
    "\tRegression \n",
    "\t\tSimple Linear Regression\n",
    "\t\tMultiple Linear Regression\n",
    "\t\tDecision Tree\n",
    "\t\tRandom Forest\n",
    "\t\n",
    "\tClassification \n",
    "\t\tLogistic Regression\n",
    "\t\tK-nearest Neighbour\n",
    "\t\tNaive Bayes \n",
    "\t\tSupport Vector Machine\n",
    "\t\tDecision Tree\n",
    "\t\tRandom Forest\n",
    "\n",
    "Unsupervised Learning\n",
    "\tClustering \n",
    "\t\tK-means Clustering\n",
    "\t\tHierarchical Clustering\n",
    "\n",
    "Association Rule \n",
    "\tApriori Association \n",
    "\t\n",
    "Dimensionality Reduction \n",
    "\t\t\n",
    "Reinforcement Learning\n",
    "\t\n",
    "Time Series \n",
    "\tARIMA\n",
    "\n",
    "Model Selection and Boosting \n",
    "\tK-Fold \n",
    "\tXGBoost\"\"\""
   ]
  },
  {
   "cell_type": "code",
   "execution_count": 1,
   "metadata": {},
   "outputs": [],
   "source": [
    "a = 10"
   ]
  },
  {
   "cell_type": "code",
   "execution_count": 25,
   "metadata": {},
   "outputs": [
    {
     "ename": "SyntaxError",
     "evalue": "Missing parentheses in call to 'print'. Did you mean print(a)? (<ipython-input-25-da1608c9d425>, line 1)",
     "output_type": "error",
     "traceback": [
      "\u001b[1;36m  File \u001b[1;32m\"<ipython-input-25-da1608c9d425>\"\u001b[1;36m, line \u001b[1;32m1\u001b[0m\n\u001b[1;33m    print a\u001b[0m\n\u001b[1;37m          ^\u001b[0m\n\u001b[1;31mSyntaxError\u001b[0m\u001b[1;31m:\u001b[0m Missing parentheses in call to 'print'. Did you mean print(a)?\n"
     ]
    }
   ],
   "source": [
    "print a"
   ]
  },
  {
   "cell_type": "code",
   "execution_count": 6,
   "metadata": {},
   "outputs": [],
   "source": [
    "sales = 150.40"
   ]
  },
  {
   "cell_type": "code",
   "execution_count": 7,
   "metadata": {},
   "outputs": [
    {
     "data": {
      "text/plain": [
       "float"
      ]
     },
     "execution_count": 7,
     "metadata": {},
     "output_type": "execute_result"
    }
   ],
   "source": [
    "type(sales)"
   ]
  },
  {
   "cell_type": "code",
   "execution_count": 10,
   "metadata": {},
   "outputs": [],
   "source": [
    "quantity = 10"
   ]
  },
  {
   "cell_type": "code",
   "execution_count": 11,
   "metadata": {},
   "outputs": [
    {
     "data": {
      "text/plain": [
       "int"
      ]
     },
     "execution_count": 11,
     "metadata": {},
     "output_type": "execute_result"
    }
   ],
   "source": [
    "type(quantity)"
   ]
  },
  {
   "cell_type": "code",
   "execution_count": 13,
   "metadata": {},
   "outputs": [],
   "source": [
    "customer_name = \"Rahul\""
   ]
  },
  {
   "cell_type": "code",
   "execution_count": 14,
   "metadata": {},
   "outputs": [
    {
     "data": {
      "text/plain": [
       "str"
      ]
     },
     "execution_count": 14,
     "metadata": {},
     "output_type": "execute_result"
    }
   ],
   "source": [
    "type(customer_name)"
   ]
  },
  {
   "cell_type": "code",
   "execution_count": 15,
   "metadata": {},
   "outputs": [],
   "source": [
    "is_sale_100 = (sales>100)"
   ]
  },
  {
   "cell_type": "code",
   "execution_count": 16,
   "metadata": {},
   "outputs": [
    {
     "data": {
      "text/plain": [
       "bool"
      ]
     },
     "execution_count": 16,
     "metadata": {},
     "output_type": "execute_result"
    }
   ],
   "source": [
    "type(is_sale_100)"
   ]
  },
  {
   "cell_type": "code",
   "execution_count": 17,
   "metadata": {},
   "outputs": [],
   "source": [
    "name= 'Edureka'"
   ]
  },
  {
   "cell_type": "code",
   "execution_count": 19,
   "metadata": {},
   "outputs": [],
   "source": [
    "total_sales = sales*quantity"
   ]
  },
  {
   "cell_type": "code",
   "execution_count": 20,
   "metadata": {},
   "outputs": [
    {
     "data": {
      "text/plain": [
       "1504.0"
      ]
     },
     "execution_count": 20,
     "metadata": {},
     "output_type": "execute_result"
    }
   ],
   "source": [
    "total_sales"
   ]
  },
  {
   "cell_type": "code",
   "execution_count": 21,
   "metadata": {},
   "outputs": [
    {
     "data": {
      "text/plain": [
       "float"
      ]
     },
     "execution_count": 21,
     "metadata": {},
     "output_type": "execute_result"
    }
   ],
   "source": [
    "type(total_sales)"
   ]
  },
  {
   "cell_type": "code",
   "execution_count": 22,
   "metadata": {},
   "outputs": [],
   "source": [
    "order_id = 'ABC123'"
   ]
  },
  {
   "cell_type": "code",
   "execution_count": 24,
   "metadata": {},
   "outputs": [
    {
     "data": {
      "text/plain": [
       "'Rahul ABC123'"
      ]
     },
     "execution_count": 24,
     "metadata": {},
     "output_type": "execute_result"
    }
   ],
   "source": [
    "customer_name + \" \"+ order_id"
   ]
  },
  {
   "cell_type": "code",
   "execution_count": 33,
   "metadata": {},
   "outputs": [],
   "source": [
    "name = '\"Ajinkya\"'"
   ]
  },
  {
   "cell_type": "code",
   "execution_count": 34,
   "metadata": {},
   "outputs": [
    {
     "data": {
      "text/plain": [
       "'\"Ajinkya\"'"
      ]
     },
     "execution_count": 34,
     "metadata": {},
     "output_type": "execute_result"
    }
   ],
   "source": [
    "name"
   ]
  },
  {
   "cell_type": "code",
   "execution_count": null,
   "metadata": {},
   "outputs": [],
   "source": [
    "for conditon {\n",
    "    statement 1\n",
    "    statement 2\n",
    "}\n",
    "statement 3"
   ]
  },
  {
   "cell_type": "code",
   "execution_count": null,
   "metadata": {},
   "outputs": [],
   "source": [
    "for condition:\n",
    "    statement1\n",
    "    statement2\n",
    "statement3"
   ]
  },
  {
   "cell_type": "code",
   "execution_count": 40,
   "metadata": {},
   "outputs": [
    {
     "data": {
      "text/plain": [
       "[1, 2]"
      ]
     },
     "execution_count": 40,
     "metadata": {},
     "output_type": "execute_result"
    }
   ],
   "source": [
    "list(range(1,3))"
   ]
  },
  {
   "cell_type": "code",
   "execution_count": 38,
   "metadata": {},
   "outputs": [
    {
     "name": "stdout",
     "output_type": "stream",
     "text": [
      "Hellow\n",
      "Hellow\n",
      "Hellow\n",
      "Hi\n"
     ]
    }
   ],
   "source": [
    "for i in range(0,3):\n",
    "    print('Hellow')\n",
    "print('Hi')"
   ]
  },
  {
   "cell_type": "code",
   "execution_count": 53,
   "metadata": {},
   "outputs": [
    {
     "data": {
      "text/plain": [
       "[0, 3, 6]"
      ]
     },
     "execution_count": 53,
     "metadata": {},
     "output_type": "execute_result"
    }
   ],
   "source": [
    "list(range(0,7,3))"
   ]
  },
  {
   "cell_type": "code",
   "execution_count": 42,
   "metadata": {},
   "outputs": [
    {
     "name": "stdout",
     "output_type": "stream",
     "text": [
      "Hellow\n",
      "Hi\n",
      "Hellow\n",
      "Hi\n",
      "Hellow\n",
      "Hi\n",
      "Hellow\n",
      "Hi\n",
      "Hope you will have great learning exp\n"
     ]
    }
   ],
   "source": [
    "for i in range(0,7,2):\n",
    "    print('Hellow')\n",
    "    print('Hi')\n",
    "print('Hope you will have great learning exp')"
   ]
  },
  {
   "cell_type": "code",
   "execution_count": 43,
   "metadata": {},
   "outputs": [],
   "source": [
    "mylist = [10,110,1110,10101,10010]"
   ]
  },
  {
   "cell_type": "code",
   "execution_count": 44,
   "metadata": {},
   "outputs": [
    {
     "data": {
      "text/plain": [
       "[10, 110, 1110, 10101, 10010]"
      ]
     },
     "execution_count": 44,
     "metadata": {},
     "output_type": "execute_result"
    }
   ],
   "source": [
    "mylist"
   ]
  },
  {
   "cell_type": "code",
   "execution_count": 46,
   "metadata": {},
   "outputs": [
    {
     "name": "stdout",
     "output_type": "stream",
     "text": [
      "Hellow , 10\n",
      "Hellow , 110\n",
      "Hellow , 1110\n",
      "Hellow , 10101\n",
      "Hellow , 10010\n"
     ]
    }
   ],
   "source": [
    "for i in mylist:\n",
    "    print(\"Hellow\", \",\", i)"
   ]
  },
  {
   "cell_type": "code",
   "execution_count": 51,
   "metadata": {},
   "outputs": [],
   "source": [
    "customer_list = ['Ruby', 'John', 'Andrew', 'James']\n",
    "order_id = ['ABC123', 'BCC321', 'XYZ123', 'PQR234', 'EEE123']"
   ]
  },
  {
   "cell_type": "code",
   "execution_count": 48,
   "metadata": {},
   "outputs": [
    {
     "data": {
      "text/plain": [
       "['Ruby', 'John', 'Andrew', 'James']"
      ]
     },
     "execution_count": 48,
     "metadata": {},
     "output_type": "execute_result"
    }
   ],
   "source": [
    "customer_list"
   ]
  },
  {
   "cell_type": "code",
   "execution_count": 49,
   "metadata": {},
   "outputs": [
    {
     "data": {
      "text/plain": [
       "['ABC123', 'BCC321', 'XYZ123', 'PQR234']"
      ]
     },
     "execution_count": 49,
     "metadata": {},
     "output_type": "execute_result"
    }
   ],
   "source": [
    "order_id"
   ]
  },
  {
   "cell_type": "code",
   "execution_count": 52,
   "metadata": {},
   "outputs": [
    {
     "name": "stdout",
     "output_type": "stream",
     "text": [
      "Hello Ruby , your order id is: ABC123\n",
      "Hello John , your order id is: BCC321\n",
      "Hello Andrew , your order id is: XYZ123\n",
      "Hello James , your order id is: PQR234\n"
     ]
    }
   ],
   "source": [
    "import itertools\n",
    "for (c,o) in zip(customer_list,order_id):\n",
    "    print('Hello', c, ',', 'your order id is:', o)"
   ]
  },
  {
   "cell_type": "code",
   "execution_count": null,
   "metadata": {},
   "outputs": [],
   "source": [
    "while condition {\n",
    "statement1\n",
    "statement2\n",
    "}\n",
    "statement3"
   ]
  },
  {
   "cell_type": "code",
   "execution_count": null,
   "metadata": {},
   "outputs": [],
   "source": [
    "while condition:\n",
    "    statement1\n",
    "    statement2\n",
    "statement3"
   ]
  },
  {
   "cell_type": "code",
   "execution_count": 54,
   "metadata": {},
   "outputs": [
    {
     "name": "stdout",
     "output_type": "stream",
     "text": [
      "Hi\n"
     ]
    }
   ],
   "source": [
    "while False:\n",
    "    print('Hello')\n",
    "print('Hi')"
   ]
  },
  {
   "cell_type": "code",
   "execution_count": null,
   "metadata": {},
   "outputs": [],
   "source": [
    "while True:\n",
    "    print('Hi')\n",
    "print('Hello')"
   ]
  },
  {
   "cell_type": "code",
   "execution_count": 55,
   "metadata": {},
   "outputs": [
    {
     "name": "stdout",
     "output_type": "stream",
     "text": [
      "0\n",
      "1\n",
      "2\n",
      "3\n",
      "4\n",
      "5\n",
      "6\n",
      "7\n",
      "8\n",
      "9\n",
      "10\n",
      "11\n",
      "Its the end of the loop\n"
     ]
    }
   ],
   "source": [
    "counter=0\n",
    "while counter<12:\n",
    "    print(counter)\n",
    "    counter=counter+1\n",
    "print('Its the end of the loop')"
   ]
  },
  {
   "cell_type": "code",
   "execution_count": 58,
   "metadata": {},
   "outputs": [
    {
     "name": "stdout",
     "output_type": "stream",
     "text": [
      "Total Quantity left is: 100\n",
      "Total Quantity left is: 99\n",
      "Total Quantity left is: 98\n",
      "Total Quantity left is: 97\n",
      "Total Quantity left is: 96\n",
      "Total Quantity left is: 95\n",
      "Total Quantity left is: 94\n",
      "Total Quantity left is: 93\n",
      "Total Quantity left is: 92\n",
      "Total Quantity left is: 91\n",
      "Total Quantity left is: 90\n",
      "Total Quantity left is: 89\n",
      "Total Quantity left is: 88\n",
      "Total Quantity left is: 87\n",
      "Total Quantity left is: 86\n",
      "Total Quantity left is: 85\n",
      "Total Quantity left is: 84\n",
      "Total Quantity left is: 83\n",
      "Total Quantity left is: 82\n",
      "Total Quantity left is: 81\n",
      "Total Quantity left is: 80\n",
      "Total Quantity left is: 79\n",
      "Total Quantity left is: 78\n",
      "Total Quantity left is: 77\n",
      "Total Quantity left is: 76\n",
      "Total Quantity left is: 75\n",
      "Total Quantity left is: 74\n",
      "Total Quantity left is: 73\n",
      "Total Quantity left is: 72\n",
      "Total Quantity left is: 71\n",
      "Total Quantity left is: 70\n",
      "Total Quantity left is: 69\n",
      "Total Quantity left is: 68\n",
      "Total Quantity left is: 67\n",
      "Total Quantity left is: 66\n",
      "Total Quantity left is: 65\n",
      "Total Quantity left is: 64\n",
      "Total Quantity left is: 63\n",
      "Total Quantity left is: 62\n",
      "Total Quantity left is: 61\n",
      "Total Quantity left is: 60\n",
      "Total Quantity left is: 59\n",
      "Total Quantity left is: 58\n",
      "Total Quantity left is: 57\n",
      "Total Quantity left is: 56\n",
      "Total Quantity left is: 55\n",
      "Total Quantity left is: 54\n",
      "Total Quantity left is: 53\n",
      "Total Quantity left is: 52\n",
      "Total Quantity left is: 51\n",
      "Total Quantity left is: 50\n",
      "Total Quantity left is: 49\n",
      "Total Quantity left is: 48\n",
      "Total Quantity left is: 47\n",
      "Total Quantity left is: 46\n",
      "Total Quantity left is: 45\n",
      "Total Quantity left is: 44\n",
      "Total Quantity left is: 43\n",
      "Total Quantity left is: 42\n",
      "Total Quantity left is: 41\n",
      "Total Quantity left is: 40\n",
      "Total Quantity left is: 39\n",
      "Total Quantity left is: 38\n",
      "Total Quantity left is: 37\n",
      "Total Quantity left is: 36\n",
      "Total Quantity left is: 35\n",
      "Total Quantity left is: 34\n",
      "Total Quantity left is: 33\n",
      "Total Quantity left is: 32\n",
      "Total Quantity left is: 31\n",
      "Total Quantity left is: 30\n",
      "Total Quantity left is: 29\n",
      "Total Quantity left is: 28\n",
      "Total Quantity left is: 27\n",
      "Total Quantity left is: 26\n",
      "Total Quantity left is: 25\n",
      "Total Quantity left is: 24\n",
      "Total Quantity left is: 23\n",
      "Total Quantity left is: 22\n",
      "Total Quantity left is: 21\n",
      "Total Quantity left is: 20\n",
      "Total Quantity left is: 19\n",
      "Total Quantity left is: 18\n",
      "Total Quantity left is: 17\n",
      "Total Quantity left is: 16\n",
      "Total Quantity left is: 15\n",
      "Total Quantity left is: 14\n",
      "Total Quantity left is: 13\n",
      "Total Quantity left is: 12\n",
      "Total Quantity left is: 11\n",
      "Total Quantity left is: 10\n",
      "Total Quantity left is: 9\n",
      "Total Quantity left is: 8\n",
      "Total Quantity left is: 7\n",
      "Total Quantity left is: 6\n",
      "Total Quantity left is: 5\n",
      "Total Quantity left is: 4\n",
      "Total Quantity left is: 3\n",
      "Total Quantity left is: 2\n",
      "Total Quantity left is: 1\n",
      "Total Quantity left is: 0\n",
      "No quantity avaiable\n"
     ]
    }
   ],
   "source": [
    "total_quantity=100\n",
    "quantity = 0\n",
    "while quantity<101:\n",
    "    print('Total Quantity left is:' + \" \" + str(total_quantity-quantity))\n",
    "    quantity=quantity+1\n",
    "print('No quantity avaiable')"
   ]
  },
  {
   "cell_type": "code",
   "execution_count": 59,
   "metadata": {},
   "outputs": [
    {
     "name": "stdout",
     "output_type": "stream",
     "text": [
      "Total Quantity left is: 99\n",
      "Total Quantity left is: 98\n",
      "Total Quantity left is: 97\n",
      "Total Quantity left is: 96\n",
      "Total Quantity left is: 95\n",
      "Total Quantity left is: 94\n",
      "Total Quantity left is: 93\n",
      "Total Quantity left is: 92\n",
      "Total Quantity left is: 91\n",
      "Total Quantity left is: 90\n",
      "Total Quantity left is: 89\n",
      "Total Quantity left is: 88\n",
      "Total Quantity left is: 87\n",
      "Total Quantity left is: 86\n",
      "Total Quantity left is: 85\n",
      "Total Quantity left is: 84\n",
      "Total Quantity left is: 83\n",
      "Total Quantity left is: 82\n",
      "Total Quantity left is: 81\n",
      "Total Quantity left is: 80\n",
      "Total Quantity left is: 79\n",
      "Total Quantity left is: 78\n",
      "Total Quantity left is: 77\n",
      "Total Quantity left is: 76\n",
      "Total Quantity left is: 75\n",
      "Total Quantity left is: 74\n",
      "Total Quantity left is: 73\n",
      "Total Quantity left is: 72\n",
      "Total Quantity left is: 71\n",
      "Total Quantity left is: 70\n",
      "Total Quantity left is: 69\n",
      "Total Quantity left is: 68\n",
      "Total Quantity left is: 67\n",
      "Total Quantity left is: 66\n",
      "Total Quantity left is: 65\n",
      "Total Quantity left is: 64\n",
      "Total Quantity left is: 63\n",
      "Total Quantity left is: 62\n",
      "Total Quantity left is: 61\n",
      "Total Quantity left is: 60\n",
      "Total Quantity left is: 59\n",
      "Total Quantity left is: 58\n",
      "Total Quantity left is: 57\n",
      "Total Quantity left is: 56\n",
      "Total Quantity left is: 55\n",
      "Total Quantity left is: 54\n",
      "Total Quantity left is: 53\n",
      "Total Quantity left is: 52\n",
      "Total Quantity left is: 51\n",
      "Total Quantity left is: 50\n",
      "Total Quantity left is: 49\n",
      "Total Quantity left is: 48\n",
      "Total Quantity left is: 47\n",
      "Total Quantity left is: 46\n",
      "Total Quantity left is: 45\n",
      "Total Quantity left is: 44\n",
      "Total Quantity left is: 43\n",
      "Total Quantity left is: 42\n",
      "Total Quantity left is: 41\n",
      "Total Quantity left is: 40\n",
      "Total Quantity left is: 39\n",
      "Total Quantity left is: 38\n",
      "Total Quantity left is: 37\n",
      "Total Quantity left is: 36\n",
      "Total Quantity left is: 35\n",
      "Total Quantity left is: 34\n",
      "Total Quantity left is: 33\n",
      "Total Quantity left is: 32\n",
      "Total Quantity left is: 31\n",
      "Total Quantity left is: 30\n",
      "Total Quantity left is: 29\n",
      "Total Quantity left is: 28\n",
      "Total Quantity left is: 27\n",
      "Total Quantity left is: 26\n",
      "Total Quantity left is: 25\n",
      "Total Quantity left is: 24\n",
      "Total Quantity left is: 23\n",
      "Total Quantity left is: 22\n",
      "Total Quantity left is: 21\n",
      "Total Quantity left is: 20\n",
      "Total Quantity left is: 19\n",
      "Total Quantity left is: 18\n",
      "Total Quantity left is: 17\n",
      "Total Quantity left is: 16\n",
      "Total Quantity left is: 15\n",
      "Total Quantity left is: 14\n",
      "Total Quantity left is: 13\n",
      "Total Quantity left is: 12\n",
      "Total Quantity left is: 11\n",
      "Total Quantity left is: 10\n",
      "Total Quantity left is: 9\n",
      "Total Quantity left is: 8\n",
      "Total Quantity left is: 7\n",
      "Total Quantity left is: 6\n",
      "Total Quantity left is: 5\n",
      "Total Quantity left is: 4\n",
      "Total Quantity left is: 3\n",
      "Total Quantity left is: 2\n",
      "Total Quantity left is: 1\n",
      "Total Quantity left is: 0\n",
      "Total Quantity left is: -1\n",
      "No quantity avaiable\n"
     ]
    }
   ],
   "source": [
    "total_quantity=100\n",
    "quantity = 0\n",
    "while quantity<101:\n",
    "    quantity=quantity+1\n",
    "    print('Total Quantity left is:' + \" \" + str(total_quantity-quantity))\n",
    "    \n",
    "print('No quantity avaiable')"
   ]
  },
  {
   "cell_type": "code",
   "execution_count": 87,
   "metadata": {},
   "outputs": [],
   "source": [
    "import numpy as np\n",
    "from numpy.random import randn"
   ]
  },
  {
   "cell_type": "code",
   "execution_count": 86,
   "metadata": {},
   "outputs": [
    {
     "data": {
      "text/plain": [
       "1.3469617678005075"
      ]
     },
     "execution_count": 86,
     "metadata": {},
     "output_type": "execute_result"
    }
   ],
   "source": [
    "randn()"
   ]
  },
  {
   "cell_type": "code",
   "execution_count": 100,
   "metadata": {},
   "outputs": [],
   "source": [
    "x = randn()"
   ]
  },
  {
   "cell_type": "code",
   "execution_count": 95,
   "metadata": {},
   "outputs": [],
   "source": [
    "name = 'Rahul'"
   ]
  },
  {
   "cell_type": "code",
   "execution_count": 97,
   "metadata": {},
   "outputs": [
    {
     "name": "stdout",
     "output_type": "stream",
     "text": [
      "Rahul\n"
     ]
    }
   ],
   "source": [
    "print(name)"
   ]
  },
  {
   "cell_type": "code",
   "execution_count": 98,
   "metadata": {},
   "outputs": [],
   "source": [
    "answer=None"
   ]
  },
  {
   "cell_type": "code",
   "execution_count": 99,
   "metadata": {},
   "outputs": [
    {
     "data": {
      "text/plain": [
       "NoneType"
      ]
     },
     "execution_count": 99,
     "metadata": {},
     "output_type": "execute_result"
    }
   ],
   "source": [
    "type(answer)"
   ]
  },
  {
   "cell_type": "code",
   "execution_count": 101,
   "metadata": {},
   "outputs": [
    {
     "data": {
      "text/plain": [
       "0.10391034977039482"
      ]
     },
     "execution_count": 101,
     "metadata": {},
     "output_type": "execute_result"
    }
   ],
   "source": [
    "x"
   ]
  },
  {
   "cell_type": "code",
   "execution_count": 123,
   "metadata": {},
   "outputs": [
    {
     "name": "stdout",
     "output_type": "stream",
     "text": [
      "1.334980383983638\n",
      "100.5\n"
     ]
    }
   ],
   "source": [
    "x=randn()\n",
    "answer=None\n",
    "if x>1:\n",
    "    answer = 100.50\n",
    "print(x)\n",
    "print(answer)"
   ]
  },
  {
   "cell_type": "code",
   "execution_count": 144,
   "metadata": {},
   "outputs": [
    {
     "name": "stdout",
     "output_type": "stream",
     "text": [
      "1.2\n",
      "Greater than 1\n"
     ]
    }
   ],
   "source": [
    "x=1.2\n",
    "answer=None\n",
    "if x>1:\n",
    "    answer = 'Greater than 1'\n",
    "else:\n",
    "    if x>=-1 and x<1:\n",
    "        answer = 'Between -1 and 1'\n",
    "    else:\n",
    "        answer='Less than 1'\n",
    "print(x)\n",
    "print(answer)"
   ]
  },
  {
   "cell_type": "code",
   "execution_count": 143,
   "metadata": {},
   "outputs": [
    {
     "name": "stdout",
     "output_type": "stream",
     "text": [
      "1.2\n",
      "Greater than 1\n"
     ]
    }
   ],
   "source": [
    "x=1.2\n",
    "answer=None\n",
    "if x>1:\n",
    "    answer = 'Greater than 1'\n",
    "elif x>=-1 and x<1:\n",
    "    answer='Between -1 and 1'\n",
    "else:\n",
    "    answer=\"Less than 1\"\n",
    "print(x)\n",
    "print(answer)"
   ]
  }
 ],
 "metadata": {
  "kernelspec": {
   "display_name": "Python 3",
   "language": "python",
   "name": "python3"
  },
  "language_info": {
   "codemirror_mode": {
    "name": "ipython",
    "version": 3
   },
   "file_extension": ".py",
   "mimetype": "text/x-python",
   "name": "python",
   "nbconvert_exporter": "python",
   "pygments_lexer": "ipython3",
   "version": "3.6.8"
  }
 },
 "nbformat": 4,
 "nbformat_minor": 2
}
